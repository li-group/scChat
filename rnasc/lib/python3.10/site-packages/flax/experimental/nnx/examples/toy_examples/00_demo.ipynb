{
 "cells": [
  {
   "cell_type": "code",
   "execution_count": 1,
   "metadata": {},
   "outputs": [
    {
     "name": "stdout",
     "output_type": "stream",
     "text": [
      "Linear(\n",
      "  din=2,\n",
      "  dout=2\n",
      ")\n",
      "[[0.63114893 1.2928092 ]\n",
      " [0.63114893 1.2928092 ]]\n"
     ]
    }
   ],
   "source": [
    "from flax.experimental import nnx\n",
    "import jax\n",
    "import jax.numpy as jnp\n",
    "\n",
    "\n",
    "class Linear(nnx.Module):\n",
    "\n",
    "  def __init__(self, din: int, dout: int, *, rngs: nnx.Rngs):\n",
    "    # static attributes\n",
    "    self.din = din\n",
    "    self.dout = dout\n",
    "    # variables\n",
    "    self.w = nnx.Param(jax.random.uniform(rngs.params(), (din, dout)))\n",
    "    self.b = nnx.Param(jnp.zeros((dout,)))\n",
    "\n",
    "  def __call__(self, x):\n",
    "    return x @ self.w.value + self.b.value\n",
    "\n",
    "\n",
    "linear = Linear(2, 2, rngs=nnx.Rngs(0))\n",
    "\n",
    "y = linear(jnp.ones((2, 2)))\n",
    "\n",
    "print(linear)\n",
    "print(y)"
   ]
  },
  {
   "cell_type": "code",
   "execution_count": 2,
   "metadata": {},
   "outputs": [
    {
     "name": "stdout",
     "output_type": "stream",
     "text": [
      "State({\n",
      "  'w': Param(\n",
      "    raw_value=Array([[0.31696808, 0.55285215],\n",
      "           [0.31418085, 0.7399571 ]], dtype=float32)\n",
      "  ),\n",
      "  'b': Param(\n",
      "    raw_value=Array([0., 0.], dtype=float32)\n",
      "  )\n",
      "})\n",
      "GraphDef(\n",
      "  type=Linear,\n",
      "  index=0,\n",
      "  attributes=('din', 'dout', 'w', 'b'),\n",
      "  subgraphs={},\n",
      "  static_fields={\n",
      "    'din': 2,\n",
      "    'dout': 2\n",
      "  },\n",
      "  variables={\n",
      "    'w': VariableDef(\n",
      "      type=Param,\n",
      "      index=1,\n",
      "      metadata={\n",
      "        'get_value_hooks': (),\n",
      "        'set_value_hooks': (),\n",
      "        'create_value_hooks': (),\n",
      "        'add_axis_hooks': (),\n",
      "        'remove_axis_hooks': ()\n",
      "      }\n",
      "    ),\n",
      "    'b': VariableDef(\n",
      "      type=Param,\n",
      "      index=2,\n",
      "      metadata={\n",
      "        'get_value_hooks': (),\n",
      "        'set_value_hooks': (),\n",
      "        'create_value_hooks': (),\n",
      "        'add_axis_hooks': (),\n",
      "        'remove_axis_hooks': ()\n",
      "      }\n",
      "    )\n",
      "  },\n",
      "  metadata=<class '__main__.Linear'>\n",
      ")\n"
     ]
    }
   ],
   "source": [
    "state, graphdef = linear.split()\n",
    "\n",
    "print(state)\n",
    "print(graphdef)"
   ]
  },
  {
   "cell_type": "code",
   "execution_count": 3,
   "metadata": {},
   "outputs": [
    {
     "data": {
      "text/plain": [
       "State({\n",
       "  'linear': {\n",
       "    'w': Param(\n",
       "      raw_value=Array([[0.31696808, 0.55285215],\n",
       "             [0.31418085, 0.7399571 ]], dtype=float32)\n",
       "    ),\n",
       "    'b': Param(\n",
       "      raw_value=Array([0., 0.], dtype=float32)\n",
       "    )\n",
       "  }\n",
       "})"
      ]
     },
     "execution_count": 3,
     "metadata": {},
     "output_type": "execute_result"
    }
   ],
   "source": [
    "class Nested(nnx.Module):\n",
    "    def __init__(self, din: int, dout: int, *, rngs: nnx.Rngs):\n",
    "        self.linear = Linear(din, dout, rngs=rngs)\n",
    "    \n",
    "module = Nested(2, 2, rngs=nnx.Rngs(0))\n",
    "\n",
    "state, static = module.split()\n",
    "state"
   ]
  },
  {
   "cell_type": "code",
   "execution_count": 4,
   "metadata": {},
   "outputs": [
    {
     "name": "stdout",
     "output_type": "stream",
     "text": [
      "Linear(\n",
      "  din=2,\n",
      "  dout=2,\n",
      "  submodule=Linear(...)\n",
      ")\n",
      "[[0.63114893 1.2928092 ]\n",
      " [0.63114893 1.2928092 ]]\n"
     ]
    }
   ],
   "source": [
    "class Linear(nnx.Module):\n",
    "\n",
    "  def __init__(self, din: int, dout: int, *, rngs: nnx.Rngs):\n",
    "    self.din = din\n",
    "    self.dout = dout\n",
    "    self.w = nnx.Param(jax.random.uniform(rngs.params(), (din, dout)))\n",
    "    self.b = nnx.Param(jnp.zeros((dout,)))\n",
    "    # introduce a self-reference\n",
    "    self.submodule = self\n",
    "\n",
    "  def __call__(self, x):\n",
    "    return x @ self.submodule.w.value + self.submodule.b.value\n",
    "\n",
    "\n",
    "linear = Linear(2, 2, rngs=nnx.Rngs(0))\n",
    "\n",
    "y = linear(jnp.ones((2, 2)))\n",
    "\n",
    "print(linear)\n",
    "print(y)"
   ]
  },
  {
   "cell_type": "code",
   "execution_count": 5,
   "metadata": {},
   "outputs": [
    {
     "name": "stdout",
     "output_type": "stream",
     "text": [
      "State({\n",
      "  'w': Param(\n",
      "    raw_value=Array([[0.31696808, 0.55285215],\n",
      "           [0.31418085, 0.7399571 ]], dtype=float32)\n",
      "  ),\n",
      "  'b': Param(\n",
      "    raw_value=Array([0., 0.], dtype=float32)\n",
      "  )\n",
      "})\n",
      "GraphDef(\n",
      "  type=Linear,\n",
      "  index=0,\n",
      "  attributes=('din', 'dout', 'w', 'b', 'submodule'),\n",
      "  subgraphs={\n",
      "    'submodule': 0\n",
      "  },\n",
      "  static_fields={\n",
      "    'din': 2,\n",
      "    'dout': 2\n",
      "  },\n",
      "  variables={\n",
      "    'w': VariableDef(\n",
      "      type=Param,\n",
      "      index=1,\n",
      "      metadata={\n",
      "        'get_value_hooks': (),\n",
      "        'set_value_hooks': (),\n",
      "        'create_value_hooks': (),\n",
      "        'add_axis_hooks': (),\n",
      "        'remove_axis_hooks': ()\n",
      "      }\n",
      "    ),\n",
      "    'b': VariableDef(\n",
      "      type=Param,\n",
      "      index=2,\n",
      "      metadata={\n",
      "        'get_value_hooks': (),\n",
      "        'set_value_hooks': (),\n",
      "        'create_value_hooks': (),\n",
      "        'add_axis_hooks': (),\n",
      "        'remove_axis_hooks': ()\n",
      "      }\n",
      "    )\n",
      "  },\n",
      "  metadata=<class '__main__.Linear'>\n",
      ")\n"
     ]
    }
   ],
   "source": [
    "state, graphdef = linear.split()\n",
    "\n",
    "print(state)\n",
    "print(graphdef)"
   ]
  },
  {
   "cell_type": "code",
   "execution_count": 6,
   "metadata": {},
   "outputs": [
    {
     "data": {
      "text/plain": [
       "True"
      ]
     },
     "execution_count": 6,
     "metadata": {},
     "output_type": "execute_result"
    }
   ],
   "source": [
    "linear2 = graphdef.merge(state)\n",
    "\n",
    "linear2.submodule is linear2"
   ]
  },
  {
   "cell_type": "code",
   "execution_count": 7,
   "metadata": {},
   "outputs": [
    {
     "name": "stdout",
     "output_type": "stream",
     "text": [
      "Linear(\n",
      "  din=2,\n",
      "  dout=2\n",
      ")\n",
      "[[0.63114893 1.2928092 ]\n",
      " [0.63114893 1.2928092 ]]\n"
     ]
    }
   ],
   "source": [
    "class Linear(nnx.Module):\n",
    "\n",
    "  def __init__(self, din: int, dout: int, *, rngs: nnx.Rngs):\n",
    "    # static attributes\n",
    "    self.din = din\n",
    "    self.dout = dout\n",
    "    # variables\n",
    "    self.w = nnx.Param(jax.random.uniform(rngs.params(), (din, dout)))\n",
    "    self.b = nnx.Param(jnp.zeros((dout,)))\n",
    "\n",
    "  def __call__(self, x):\n",
    "    y = x @ self.w.value + self.b.value\n",
    "    self.y = nnx.Intermediate(y)\n",
    "    return y\n",
    "\n",
    "\n",
    "linear = Linear(2, 2, rngs=nnx.Rngs(0))\n",
    "\n",
    "y = linear(jnp.ones((2, 2)))\n",
    "\n",
    "print(linear)\n",
    "print(y)"
   ]
  },
  {
   "cell_type": "code",
   "execution_count": 8,
   "metadata": {},
   "outputs": [
    {
     "name": "stdout",
     "output_type": "stream",
     "text": [
      "State({\n",
      "  'y': Intermediate(\n",
      "    raw_value=Array([[0.63114893, 1.2928092 ],\n",
      "           [0.63114893, 1.2928092 ]], dtype=float32)\n",
      "  )\n",
      "})\n",
      "State({\n",
      "  'w': Param(\n",
      "    raw_value=Array([[0.31696808, 0.55285215],\n",
      "           [0.31418085, 0.7399571 ]], dtype=float32)\n",
      "  ),\n",
      "  'b': Param(\n",
      "    raw_value=Array([0., 0.], dtype=float32)\n",
      "  ),\n",
      "  'y': Intermediate(\n",
      "    raw_value=Empty\n",
      "  )\n",
      "})\n"
     ]
    }
   ],
   "source": [
    "intermediates = linear.pop(nnx.Intermediate)\n",
    "state, graphdef = linear.split()\n",
    "\n",
    "print(intermediates)\n",
    "print(state)"
   ]
  },
  {
   "cell_type": "code",
   "execution_count": 9,
   "metadata": {},
   "outputs": [
    {
     "name": "stdout",
     "output_type": "stream",
     "text": [
      "state = State({\n",
      "  'bar': {\n",
      "    'kernel': Array([[-0.3641057 ,  0.10192434],\n",
      "           [-0.37005556,  0.49028906]], dtype=float32),\n",
      "    'bias': Array([0., 0.], dtype=float32)\n",
      "  },\n",
      "  'baz': {\n",
      "    'bias': Array([0., 0.], dtype=float32)\n",
      "  }\n",
      "})\n",
      "static = GraphDef(\n",
      "  type=Foo,\n",
      "  index=0,\n",
      "  attributes=('bar', 'baz'),\n",
      "  subgraphs={\n",
      "    'bar': GraphDef(\n",
      "      type=Linear,\n",
      "      index=1,\n",
      "      attributes=('kernel', 'bias', 'in_features', 'out_features', 'use_bias', 'dtype', 'param_dtype', 'precision', 'kernel_init', 'bias_init', 'dot_general'),\n",
      "      subgraphs={},\n",
      "      static_fields={\n",
      "        'in_features': 2,\n",
      "        'out_features': 2,\n",
      "        'use_bias': True,\n",
      "        'dtype': None,\n",
      "        'param_dtype': <class 'jax.numpy.float32'>,\n",
      "        'precision': None,\n",
      "        'kernel_init': <function variance_scaling.<locals>.init at 0x1391425f0>,\n",
      "        'bias_init': <function zeros at 0x1294268c0>,\n",
      "        'dot_general': <function dot_general at 0x11f78f1c0>\n",
      "      },\n",
      "      variables={\n",
      "        'kernel': VariableDef(\n",
      "          type=Param,\n",
      "          index=2,\n",
      "          metadata={\n",
      "            'get_value_hooks': (),\n",
      "            'set_value_hooks': (),\n",
      "            'create_value_hooks': (),\n",
      "            'add_axis_hooks': (),\n",
      "            'remove_axis_hooks': ()\n",
      "          }\n",
      "        ),\n",
      "        'bias': VariableDef(\n",
      "          type=Param,\n",
      "          index=3,\n",
      "          metadata={\n",
      "            'get_value_hooks': (),\n",
      "            'set_value_hooks': (),\n",
      "            'create_value_hooks': (),\n",
      "            'add_axis_hooks': (),\n",
      "            'remove_axis_hooks': ()\n",
      "          }\n",
      "        )\n",
      "      },\n",
      "      metadata=<class 'flax.experimental.nnx.nnx.nn.linear.Linear'>\n",
      "    ),\n",
      "    'baz': GraphDef(\n",
      "      type=Linear,\n",
      "      index=4,\n",
      "      attributes=('kernel', 'bias', 'in_features', 'out_features', 'use_bias', 'dtype', 'param_dtype', 'precision', 'kernel_init', 'bias_init', 'dot_general'),\n",
      "      subgraphs={},\n",
      "      static_fields={\n",
      "        'in_features': 2,\n",
      "        'out_features': 2,\n",
      "        'use_bias': True,\n",
      "        'dtype': None,\n",
      "        'param_dtype': <class 'jax.numpy.float32'>,\n",
      "        'precision': None,\n",
      "        'kernel_init': <function variance_scaling.<locals>.init at 0x1391425f0>,\n",
      "        'bias_init': <function zeros at 0x1294268c0>,\n",
      "        'dot_general': <function dot_general at 0x11f78f1c0>\n",
      "      },\n",
      "      variables={\n",
      "        'kernel': 2,\n",
      "        'bias': VariableDef(\n",
      "          type=Param,\n",
      "          index=5,\n",
      "          metadata={\n",
      "            'get_value_hooks': (),\n",
      "            'set_value_hooks': (),\n",
      "            'create_value_hooks': (),\n",
      "            'add_axis_hooks': (),\n",
      "            'remove_axis_hooks': ()\n",
      "          }\n",
      "        )\n",
      "      },\n",
      "      metadata=<class 'flax.experimental.nnx.nnx.nn.linear.Linear'>\n",
      "    )\n",
      "  },\n",
      "  static_fields={},\n",
      "  variables={},\n",
      "  metadata=<class '__main__.Foo'>\n",
      ")\n"
     ]
    }
   ],
   "source": [
    "class Foo(nnx.Module):\n",
    "    def __init__(self, *, rngs: nnx.Rngs) -> None:\n",
    "        self.bar = nnx.Linear(2, 2, rngs=rngs)\n",
    "        self.baz = nnx.Linear(2, 2, rngs=rngs)\n",
    "\n",
    "        # tie the weights\n",
    "        self.baz.variables.kernel = self.bar.variables.kernel\n",
    "\n",
    "model = Foo(rngs=nnx.Rngs(0))\n",
    "state, static = model.split()\n",
    "\n",
    "print(f'{state = }')\n",
    "print(f'{static = }')"
   ]
  },
  {
   "cell_type": "code",
   "execution_count": null,
   "metadata": {},
   "outputs": [],
   "source": []
  }
 ],
 "metadata": {
  "language_info": {
   "codemirror_mode": {
    "name": "ipython",
    "version": 3
   },
   "file_extension": ".py",
   "mimetype": "text/x-python",
   "name": "python",
   "nbconvert_exporter": "python",
   "pygments_lexer": "ipython3",
   "version": "3.9.18"
  }
 },
 "nbformat": 4,
 "nbformat_minor": 2
}
